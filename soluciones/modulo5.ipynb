{
 "cells": [
  {
   "cell_type": "code",
   "execution_count": 3,
   "metadata": {},
   "outputs": [
    {
     "name": "stdout",
     "output_type": "stream",
     "text": [
      "14\n"
     ]
    }
   ],
   "source": [
    "# Args 1\n",
    "\n",
    "def suma_cuadrados(*args):\n",
    "    suma = 0\n",
    "    for num in args:\n",
    "        suma += num ** 2\n",
    "    return suma\n",
    "\n",
    "resultado = suma_cuadrados(1, 2, 3)\n",
    "print(resultado)\n"
   ]
  },
  {
   "cell_type": "code",
   "execution_count": 5,
   "metadata": {},
   "outputs": [
    {
     "name": "stdout",
     "output_type": "stream",
     "text": [
      "50\n"
     ]
    }
   ],
   "source": [
    "# Args 2\n",
    "\n",
    "def suma_absolutos(*args):\n",
    "    suma = 0\n",
    "    for num in args:\n",
    "        suma += abs(num)\n",
    "    return suma\n",
    "\n",
    "resultado = suma_absolutos(-5, 10, -15, 20)\n",
    "print(resultado)\n"
   ]
  },
  {
   "cell_type": "code",
   "execution_count": 6,
   "metadata": {},
   "outputs": [
    {
     "name": "stdout",
     "output_type": "stream",
     "text": [
      "Rafa, la suma de tus números es 75\n"
     ]
    }
   ],
   "source": [
    "# Args 3\n",
    "\n",
    "def numeros_persona(nombre, *numeros):\n",
    "    suma_numeros = sum(numeros)\n",
    "    mensaje = f\"{nombre}, la suma de tus números es {suma_numeros}\"\n",
    "    return mensaje\n",
    "\n",
    "resultado = numeros_persona(\"Rafa\", 1, 44, 5, 10, 15)\n",
    "print(resultado)\n"
   ]
  },
  {
   "cell_type": "code",
   "execution_count": 4,
   "metadata": {},
   "outputs": [
    {
     "name": "stdout",
     "output_type": "stream",
     "text": [
      "El cuadrado de 5 es: 25\n"
     ]
    }
   ],
   "source": [
    "# Funciones 1\n",
    "\n",
    "def cuadrado(un_numero):\n",
    "    resultado = un_numero ** 2\n",
    "    print(f\"El cuadrado de {un_numero} es: {resultado}\")\n",
    "\n",
    "un_numero = 5\n",
    "\n",
    "cuadrado(un_numero)\n"
   ]
  }
 ],
 "metadata": {
  "kernelspec": {
   "display_name": "Python 3",
   "language": "python",
   "name": "python3"
  },
  "language_info": {
   "codemirror_mode": {
    "name": "ipython",
    "version": 3
   },
   "file_extension": ".py",
   "mimetype": "text/x-python",
   "name": "python",
   "nbconvert_exporter": "python",
   "pygments_lexer": "ipython3",
   "version": "3.12.3"
  }
 },
 "nbformat": 4,
 "nbformat_minor": 2
}
