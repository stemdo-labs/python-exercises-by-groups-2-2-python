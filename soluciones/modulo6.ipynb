{
 "cells": [
  {
   "cell_type": "code",
   "execution_count": 4,
   "metadata": {},
   "outputs": [
    {
     "name": "stdout",
     "output_type": "stream",
     "text": [
      "Casa(color = 'blanco', cantidad_pisos = 12)\n"
     ]
    }
   ],
   "source": [
    "# Atributos 1\n",
    "\n",
    "class Casa:\n",
    "    def __init__(self, color, cantidad_pisos):\n",
    "        self.color = color\n",
    "        self.cantidad_pisos = cantidad_pisos\n",
    "    \n",
    "    def __str__(self):\n",
    "        return f\"Casa(color = '{self.color}', cantidad_pisos = {self.cantidad_pisos})\"\n",
    "\n",
    "\n",
    "casa_blanca = Casa(color = \"blanco\", cantidad_pisos = 12)\n",
    "\n",
    "print(casa_blanca)\n"
   ]
  },
  {
   "cell_type": "code",
   "execution_count": 8,
   "metadata": {},
   "outputs": [
    {
     "name": "stdout",
     "output_type": "stream",
     "text": [
      "Cubo de color rojo con 6 caras\n"
     ]
    }
   ],
   "source": [
    "# Atributo 2\n",
    "\n",
    "class Cubo:\n",
    "    caras = 6\n",
    "\n",
    "    def __init__(self, color):\n",
    "        self.color = color\n",
    "\n",
    "    def __str__(self):\n",
    "        return f\"Cubo de color {self.color} con {self.caras} caras\"\n",
    "\n",
    "cubo_rojo = Cubo(color=\"rojo\")\n",
    "\n",
    "print(cubo_rojo)\n"
   ]
  },
  {
   "cell_type": "code",
   "execution_count": 9,
   "metadata": {},
   "outputs": [
    {
     "name": "stdout",
     "output_type": "stream",
     "text": [
      "Plataforma de streaming: Netflix\n",
      "Plataforma de streaming: HBO Max\n",
      "Plataforma de streaming: Amazon Prime Video\n"
     ]
    }
   ],
   "source": [
    "# Clases 1\n",
    "\n",
    "class PlataformaStreaming:\n",
    "    def __init__(self, nombre):\n",
    "        self.nombre = nombre\n",
    "\n",
    "    def __str__(self):\n",
    "        return f\"Plataforma de streaming: {self.nombre}\"\n",
    "\n",
    "netflix = PlataformaStreaming(nombre=\"Netflix\")\n",
    "hbo_max = PlataformaStreaming(nombre=\"HBO Max\")\n",
    "amazon_prime_video = PlataformaStreaming(nombre=\"Amazon Prime Video\")\n",
    "\n",
    "print(netflix)\n",
    "print(hbo_max)\n",
    "print(amazon_prime_video)\n"
   ]
  },
  {
   "cell_type": "code",
   "execution_count": null,
   "metadata": {},
   "outputs": [],
   "source": [
    "# Herencia 1\n",
    "\n",
    "class Persona:\n",
    "    def __init__(self, nombre, edad):\n",
    "        self.nombre = nombre\n",
    "        self.edad = edad\n",
    "\n",
    "class Alumno(Persona):\n",
    "    pass\n"
   ]
  },
  {
   "cell_type": "code",
   "execution_count": 10,
   "metadata": {},
   "outputs": [
    {
     "name": "stdout",
     "output_type": "stream",
     "text": [
      "Inhalar... Exhalar\n"
     ]
    }
   ],
   "source": [
    "# Metodos 1\n",
    "\n",
    "class Mascota:\n",
    "    @staticmethod\n",
    "    def respirar():\n",
    "        print(\"Inhalar... Exhalar\")\n",
    "\n",
    "# Llamada al método estático\n",
    "Mascota.respirar()\n"
   ]
  },
  {
   "cell_type": "code",
   "execution_count": 11,
   "metadata": {},
   "outputs": [
    {
     "name": "stdout",
     "output_type": "stream",
     "text": [
      "False\n",
      "True\n"
     ]
    }
   ],
   "source": [
    "# Metodos 2\n",
    "\n",
    "class Jugador:\n",
    "    vivo = False\n",
    "\n",
    "    @classmethod\n",
    "    def revivir(cls):\n",
    "        cls.vivo = True\n",
    "\n",
    "print(Jugador.vivo)\n",
    "\n",
    "Jugador.revivir()\n",
    "\n",
    "print(Jugador.vivo)\n"
   ]
  },
  {
   "cell_type": "code",
   "execution_count": 15,
   "metadata": {},
   "outputs": [
    {
     "name": "stdout",
     "output_type": "stream",
     "text": [
      "Longitud de str: 4\n",
      "Longitud de list: 5\n",
      "Longitud de tuple: 8\n"
     ]
    }
   ],
   "source": [
    "# Polimorfismo 1\n",
    "\n",
    "palabra = \"Hola\"\n",
    "lista = [1, 2, 3, 4, 5]\n",
    "tupla = (10, 20, 30, 40, 50, 60, 70, 80)\n",
    "\n",
    "objetos = [palabra, lista, tupla]\n",
    "\n",
    "for obj in objetos:\n",
    "    print(f\"Longitud de {type(obj).__name__}: {len(obj)}\")\n"
   ]
  },
  {
   "cell_type": "code",
   "execution_count": 13,
   "metadata": {},
   "outputs": [
    {
     "name": "stdout",
     "output_type": "stream",
     "text": [
      "El arquero dispara una flecha\n",
      "El mago lanza un hechizo\n",
      "El samurai ejecuta un corte\n"
     ]
    }
   ],
   "source": [
    "# Polimorfismo 2\n",
    "\n",
    "class Arquero:\n",
    "    def atacar(self):\n",
    "        print(\"El arquero dispara una flecha\")\n",
    "\n",
    "class Mago:\n",
    "    def atacar(self):\n",
    "        print(\"El mago lanza un hechizo\")\n",
    "\n",
    "class Samurai:\n",
    "    def atacar(self):\n",
    "        print(\"El samurai ejecuta un corte\")\n",
    "\n",
    "arquero = Arquero()\n",
    "mago = Mago()\n",
    "samurai = Samurai()\n",
    "\n",
    "personajes = [arquero, mago, samurai]\n",
    "\n",
    "for personaje in personajes:\n",
    "    personaje.atacar()\n"
   ]
  }
 ],
 "metadata": {
  "kernelspec": {
   "display_name": "Python 3",
   "language": "python",
   "name": "python3"
  },
  "language_info": {
   "codemirror_mode": {
    "name": "ipython",
    "version": 3
   },
   "file_extension": ".py",
   "mimetype": "text/x-python",
   "name": "python",
   "nbconvert_exporter": "python",
   "pygments_lexer": "ipython3",
   "version": "3.12.3"
  }
 },
 "nbformat": 4,
 "nbformat_minor": 2
}
