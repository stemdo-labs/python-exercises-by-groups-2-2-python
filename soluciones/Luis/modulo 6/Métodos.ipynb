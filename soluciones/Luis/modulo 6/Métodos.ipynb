{
 "cells": [
  {
   "cell_type": "code",
   "execution_count": 3,
   "metadata": {},
   "outputs": [
    {
     "name": "stdout",
     "output_type": "stream",
     "text": [
      "Inhalar... Exhalar\n"
     ]
    }
   ],
   "source": [
    "class Mascota:\n",
    "    nombre=''\n",
    "    def respirar():\n",
    "        print(\"Inhalar... Exhalar\")\n",
    "\n",
    "    def __init__(mascota, nombre):\n",
    "        mascota.nombre=nombre\n",
    "\n",
    "Leo=Mascota('Leo')\n",
    "Mascota.respirar()"
   ]
  }
 ],
 "metadata": {
  "kernelspec": {
   "display_name": "Python 3",
   "language": "python",
   "name": "python3"
  },
  "language_info": {
   "codemirror_mode": {
    "name": "ipython",
    "version": 3
   },
   "file_extension": ".py",
   "mimetype": "text/x-python",
   "name": "python",
   "nbconvert_exporter": "python",
   "pygments_lexer": "ipython3",
   "version": "3.12.2"
  }
 },
 "nbformat": 4,
 "nbformat_minor": 2
}
