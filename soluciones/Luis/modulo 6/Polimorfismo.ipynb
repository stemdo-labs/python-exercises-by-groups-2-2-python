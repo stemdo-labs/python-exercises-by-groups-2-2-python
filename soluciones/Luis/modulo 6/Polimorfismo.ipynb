{
 "cells": [
  {
   "cell_type": "code",
   "execution_count": 2,
   "metadata": {},
   "outputs": [
    {
     "name": "stdout",
     "output_type": "stream",
     "text": [
      "La longitud de palabra es 7\n",
      "La longitud de lista es 2\n",
      "La longitud de tupla es 4\n",
      "La longitud de myset es 3\n"
     ]
    }
   ],
   "source": [
    "palabra='palabra'\n",
    "lista=[12, 14]\n",
    "tupla=('uno', 'dos', 'tres', 'cuatro')\n",
    "myset = {\"apple\", \"banana\", \"cherry\"}\n",
    "\n",
    "listaDelistas=[palabra, lista, tupla, myset]\n",
    "\n",
    "def namestr(obj, namespace):\n",
    "    return [name for name in namespace if namespace[name] is obj]\n",
    "\n",
    "for i in listaDelistas:\n",
    "    print(f'La longitud de {namestr(i, globals())[0]} es {len(i)}')\n"
   ]
  },
  {
   "cell_type": "code",
   "execution_count": 22,
   "metadata": {},
   "outputs": [],
   "source": [
    "class personaje:\n",
    "\n",
    "    damage=1\n",
    "    name='Sin nombre'\n",
    "\n",
    "    def atacar(pj, target):\n",
    "        print(f'{pj.name} hizo {pj.danio} a {target}')\n",
    "\n",
    "    def __init__(self, name, damage):\n",
    "        self.name=name\n",
    "        self.damage=damage"
   ]
  },
  {
   "cell_type": "code",
   "execution_count": 23,
   "metadata": {},
   "outputs": [],
   "source": [
    "class Arquero(personaje):\n",
    "\n",
    "    def __init__(self, name):\n",
    "        self.name=name\n",
    "        self.danio=5\n",
    "    \n",
    "    def atacar(arquero, target):\n",
    "        print(f'{arquero.name} disparó a {target} y le hizo {arquero.danio}')"
   ]
  },
  {
   "cell_type": "code",
   "execution_count": 24,
   "metadata": {},
   "outputs": [],
   "source": [
    "class Mago(personaje):\n",
    "\n",
    "    def __init__(self, name):\n",
    "        self.name=name\n",
    "        self.danio=40\n",
    "    \n",
    "    def atacar(mago, target):\n",
    "        print(f'{mago.name} lanzó una bola de fuego a {target} y le hizo {mago.danio}')"
   ]
  },
  {
   "cell_type": "code",
   "execution_count": 25,
   "metadata": {},
   "outputs": [],
   "source": [
    "class Samurai(personaje):\n",
    "\n",
    "    def __init__(self, name):\n",
    "        self.name=name\n",
    "        self.danio=15\n",
    "    \n",
    "    def atacar(samurai, target):\n",
    "        print(f'{samurai.name}, el samurái, disparó a {target} y le hizo {samurai.danio}')\n",
    "        print(f'También lleva una katana muy guai')"
   ]
  },
  {
   "cell_type": "code",
   "execution_count": 26,
   "metadata": {},
   "outputs": [
    {
     "name": "stdout",
     "output_type": "stream",
     "text": [
      "Johnny disparó a el Malo y le hizo 5\n",
      "Antón lanzó una bola de fuego a el Malo y le hizo 40\n",
      "pepe, el samurái, disparó a el Malo y le hizo 15\n",
      "También lleva una katana muy guai\n"
     ]
    }
   ],
   "source": [
    "personajes=[Arquero('Johnny'), Mago('Antón'), Samurai('pepe') ]\n",
    "\n",
    "for personaje in personajes:\n",
    "    personaje.atacar('el Malo')"
   ]
  }
 ],
 "metadata": {
  "kernelspec": {
   "display_name": "Python 3",
   "language": "python",
   "name": "python3"
  },
  "language_info": {
   "codemirror_mode": {
    "name": "ipython",
    "version": 3
   },
   "file_extension": ".py",
   "mimetype": "text/x-python",
   "name": "python",
   "nbconvert_exporter": "python",
   "pygments_lexer": "ipython3",
   "version": "3.12.2"
  }
 },
 "nbformat": 4,
 "nbformat_minor": 2
}
