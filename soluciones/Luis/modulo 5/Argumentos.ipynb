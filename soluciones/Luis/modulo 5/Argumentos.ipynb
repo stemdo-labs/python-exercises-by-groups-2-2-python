{
 "cells": [
  {
   "cell_type": "code",
   "execution_count": null,
   "metadata": {},
   "outputs": [],
   "source": [
    "def numeros_persona(nombre, *numeros):\n",
    "    suma_numeros=0\n",
    "    for numero in numeros:\n",
    "        suma_numeros+=numero\n",
    "    print(f\"{nombre}, la suma de tus números es {suma_numeros}\")"
   ]
  }
 ],
 "metadata": {
  "language_info": {
   "name": "python"
  }
 },
 "nbformat": 4,
 "nbformat_minor": 2
}
