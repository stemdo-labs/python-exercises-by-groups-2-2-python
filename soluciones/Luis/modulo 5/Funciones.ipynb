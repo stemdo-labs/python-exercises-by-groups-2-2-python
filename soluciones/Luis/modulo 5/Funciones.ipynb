{
 "cells": [
  {
   "cell_type": "code",
   "execution_count": 10,
   "metadata": {},
   "outputs": [
    {
     "name": "stdout",
     "output_type": "stream",
     "text": [
      "El cuadrado de 1 es... \n",
      "1.0\n",
      "El cuadrado de 3 es... \n",
      "9.0\n",
      "Pasame un numero, no un/una hamburguesa porfavoh\n",
      "El cuadrado de 12.12 es... \n",
      "146.89\n"
     ]
    }
   ],
   "source": [
    "def cuadrado(numero):\n",
    "    try:\n",
    "        numeroDos=float(numero)\n",
    "        print(f'El cuadrado de {numero} es... \\n{round(numeroDos * numeroDos, 2)}')\n",
    "    except ValueError:\n",
    "        print(f'Pasame un numero, no un/una {numero} porfavoh')\n",
    "cuadrado(1)\n",
    "cuadrado(3)\n",
    "cuadrado('hamburguesa')\n",
    "cuadrado('12.12')"
   ]
  }
 ],
 "metadata": {
  "kernelspec": {
   "display_name": "Python 3",
   "language": "python",
   "name": "python3"
  },
  "language_info": {
   "codemirror_mode": {
    "name": "ipython",
    "version": 3
   },
   "file_extension": ".py",
   "mimetype": "text/x-python",
   "name": "python",
   "nbconvert_exporter": "python",
   "pygments_lexer": "ipython3",
   "version": "3.12.2"
  }
 },
 "nbformat": 4,
 "nbformat_minor": 2
}
