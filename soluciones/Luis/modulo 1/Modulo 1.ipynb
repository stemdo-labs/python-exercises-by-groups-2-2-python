{
 "cells": [
  {
   "cell_type": "code",
   "execution_count": 8,
   "metadata": {},
   "outputs": [],
   "source": [
    "class format:\n",
    "    HEADER = '\\033[95m'\n",
    "    OKBLUE = '\\033[94m'\n",
    "    OKCYAN = '\\033[96m'\n",
    "    OKGREEN = '\\033[92m'\n",
    "    OKRED = '\\033[91m'\n",
    "    WARNING = '\\033[93m'\n",
    "    FAIL = '\\033[91m'\n",
    "    ENDC = '\\033[0m'\n",
    "    BOLD = '\\033[1m'\n",
    "    UNDERLINE = '\\033[4m'\n",
    "    ITALICS = '\\033[3m'\n"
   ]
  },
  {
   "cell_type": "markdown",
   "metadata": {},
   "source": [
    "# Crea un código que imprima en pantalla la expresión *<u>Me encanta estudiar Python*.</u>"
   ]
  },
  {
   "cell_type": "code",
   "execution_count": 7,
   "metadata": {},
   "outputs": [
    {
     "name": "stdout",
     "output_type": "stream",
     "text": [
      "\u001b[4m\u001b[3mMe encanta estudiar Python\u001b[0m\n"
     ]
    }
   ],
   "source": [
    "text = 'Me encanta estudiar Python'\n",
    "print(format.UNDERLINE + format.ITALICS + text + format.ENDC)"
   ]
  },
  {
   "cell_type": "code",
   "execution_count": 9,
   "metadata": {},
   "outputs": [
    {
     "name": "stdout",
     "output_type": "stream",
     "text": [
      "\u001b[91m\u001b[1mMe encanta estudiar Python\u001b[0m y este texto, con un solo end, no es ni rojo ni bold\n"
     ]
    }
   ],
   "source": [
    "print(f\"{format.OKRED}{format.BOLD}{text}{format.ENDC} y este texto, con un solo end, no es ni rojo ni bold\")"
   ]
  },
  {
   "cell_type": "code",
   "execution_count": 10,
   "metadata": {},
   "outputs": [
    {
     "name": "stdout",
     "output_type": "stream",
     "text": [
      "Pondremos Rojo\u001b[91m y en negrita: \u001b[1m Me encanta estudiar Python \u001b[0m \n",
      "Y luego lo quitamos todo de golpe\n"
     ]
    }
   ],
   "source": [
    "print(\"Pondremos Rojo{} y en negrita: {} {} {} \\nY luego lo quitamos todo de golpe\".format(format.OKRED, format.BOLD, text, format.ENDC))"
   ]
  },
  {
   "cell_type": "markdown",
   "metadata": {},
   "source": [
    "## 1. Crea un código que imprima en pantalla la expresión: \n",
    "### <u>*Estudiar con \"STEMDO\" es super divertido*</u>"
   ]
  },
  {
   "cell_type": "code",
   "execution_count": 11,
   "metadata": {},
   "outputs": [
    {
     "name": "stdout",
     "output_type": "stream",
     "text": [
      "\u001b[4m\u001b[3mEstudiar con \"STEMDO\" es super divertido\u001b[0m\n"
     ]
    }
   ],
   "source": [
    "text = \"Estudiar con \\\"STEMDO\\\" es super divertido\"\n",
    "print(format.UNDERLINE + format.ITALICS + text + format.ENDC)"
   ]
  },
  {
   "cell_type": "markdown",
   "metadata": {},
   "source": [
    "## 2. Crea un código que imprima en pantalla la siguiente expresión.\n",
    "\n",
    "A &ensp;B&ensp;C\n",
    "D&ensp;E&ensp;F\n",
    "G&ensp;H&ensp;I\n",
    "\n",
    "<br>"
   ]
  },
  {
   "cell_type": "code",
   "execution_count": 15,
   "metadata": {},
   "outputs": [
    {
     "name": "stdout",
     "output_type": "stream",
     "text": [
      "A B C D E F G H I\n"
     ]
    }
   ],
   "source": [
    "txt = 'A\\tB\\tC\\tD\\tE\\tF\\tG\\tH\\tI'\n",
    "\n",
    "print (txt.expandtabs(1))"
   ]
  },
  {
   "cell_type": "markdown",
   "metadata": {},
   "source": [
    "## Crea un código que imprima en pantalla la siguiente expresión:\n",
    "\n",
    "Barra Normal: /\n",
    "Barra Invertida: \\\n",
    "\n",
    "- **Presta mucha atención al texto que debes reproducir, ya que errores ortográficos y de puntuación, espacios en  blanco adicionales y saltos de línea innecesarios pueden ocasionar errores inesperados.**"
   ]
  },
  {
   "cell_type": "code",
   "execution_count": 23,
   "metadata": {},
   "outputs": [
    {
     "name": "stdout",
     "output_type": "stream",
     "text": [
      "Barra Normal: \\ Barra Invertida: /\n"
     ]
    }
   ],
   "source": [
    "print ('Barra Normal: \\\\ Barra Invertida: /')"
   ]
  }
 ],
 "metadata": {
  "kernelspec": {
   "display_name": "Python 3",
   "language": "python",
   "name": "python3"
  },
  "language_info": {
   "codemirror_mode": {
    "name": "ipython",
    "version": 3
   },
   "file_extension": ".py",
   "mimetype": "text/x-python",
   "name": "python",
   "nbconvert_exporter": "python",
   "pygments_lexer": "ipython3",
   "version": "3.12.2"
  }
 },
 "nbformat": 4,
 "nbformat_minor": 2
}
