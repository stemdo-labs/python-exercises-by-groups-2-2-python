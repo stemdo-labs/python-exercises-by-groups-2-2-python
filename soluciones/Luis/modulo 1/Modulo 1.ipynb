{
 "cells": [
  {
   "cell_type": "code",
   "execution_count": 2,
   "metadata": {},
   "outputs": [],
   "source": [
    "class format:\n",
    "    HEADER = '\\033[95m'\n",
    "    OKBLUE = '\\033[94m'\n",
    "    OKCYAN = '\\033[96m'\n",
    "    OKGREEN = '\\033[92m'\n",
    "    OKRED = '\\033[91m'\n",
    "    WARNING = '\\033[93m'\n",
    "    FAIL = '\\033[91m'\n",
    "    ENDC = '\\033[0m'\n",
    "    BOLD = '\\033[1m'\n",
    "    UNDERLINE = '\\033[4m'\n",
    "    ITALICS = '\\033[3m'"
   ]
  },
  {
   "cell_type": "markdown",
   "metadata": {},
   "source": [
    "#### Si el código de abajo empieza a fallar, ejecuta el código anterior para que las referencias a la clase vuelvan a funcionar"
   ]
  },
  {
   "cell_type": "markdown",
   "metadata": {},
   "source": [
    "# Crea un código que imprima en pantalla la expresión *<u>Me encanta estudiar Python*.</u>"
   ]
  },
  {
   "cell_type": "code",
   "execution_count": 7,
   "metadata": {},
   "outputs": [
    {
     "name": "stdout",
     "output_type": "stream",
     "text": [
      "\u001b[4m\u001b[3mMe encanta estudiar Python\u001b[0m\n"
     ]
    }
   ],
   "source": [
    "text = 'Me encanta estudiar Python'\n",
    "print(format.UNDERLINE + format.ITALICS + text + format.ENDC)"
   ]
  },
  {
   "cell_type": "code",
   "execution_count": 9,
   "metadata": {},
   "outputs": [
    {
     "name": "stdout",
     "output_type": "stream",
     "text": [
      "\u001b[91m\u001b[1mMe encanta estudiar Python\u001b[0m y este texto, con un solo end, no es ni rojo ni bold\n"
     ]
    }
   ],
   "source": [
    "print(f\"{format.OKRED}{format.BOLD}{text}{format.ENDC} y este texto, con un solo end, no es ni rojo ni bold\")"
   ]
  },
  {
   "cell_type": "code",
   "execution_count": 10,
   "metadata": {},
   "outputs": [
    {
     "name": "stdout",
     "output_type": "stream",
     "text": [
      "Pondremos Rojo\u001b[91m y en negrita: \u001b[1m Me encanta estudiar Python \u001b[0m \n",
      "Y luego lo quitamos todo de golpe\n"
     ]
    }
   ],
   "source": [
    "print(\"Pondremos Rojo{} y en negrita: {} {} {} \\nY luego lo quitamos todo de golpe\".format(format.OKRED, format.BOLD, text, format.ENDC))"
   ]
  },
  {
   "cell_type": "markdown",
   "metadata": {},
   "source": [
    "## 1. Crea un código que imprima en pantalla la expresión: \n",
    "### <u>*Estudiar con \"STEMDO\" es super divertido*</u>"
   ]
  },
  {
   "cell_type": "code",
   "execution_count": 11,
   "metadata": {},
   "outputs": [
    {
     "name": "stdout",
     "output_type": "stream",
     "text": [
      "\u001b[4m\u001b[3mEstudiar con \"STEMDO\" es super divertido\u001b[0m\n"
     ]
    }
   ],
   "source": [
    "text = \"Estudiar con \\\"STEMDO\\\" es super divertido\"\n",
    "print(format.UNDERLINE + format.ITALICS + text + format.ENDC)"
   ]
  },
  {
   "cell_type": "markdown",
   "metadata": {},
   "source": [
    "## 2. Crea un código que imprima en pantalla la siguiente expresión.\n",
    "\n",
    "A &ensp;B&ensp;C\n",
    "D&ensp;E&ensp;F\n",
    "G&ensp;H&ensp;I\n",
    "\n",
    "<br>"
   ]
  },
  {
   "cell_type": "code",
   "execution_count": 15,
   "metadata": {},
   "outputs": [
    {
     "name": "stdout",
     "output_type": "stream",
     "text": [
      "A B C D E F G H I\n"
     ]
    }
   ],
   "source": [
    "txt = 'A\\tB\\tC\\tD\\tE\\tF\\tG\\tH\\tI'\n",
    "\n",
    "print (txt.expandtabs(1))"
   ]
  },
  {
   "cell_type": "markdown",
   "metadata": {},
   "source": [
    "## Crea un código que imprima en pantalla la siguiente expresión:\n",
    "\n",
    "Barra Normal: /\n",
    "Barra Invertida: \\\n",
    "\n",
    "- **Presta mucha atención al texto que debes reproducir, ya que errores ortográficos y de puntuación, espacios en  blanco adicionales y saltos de línea innecesarios pueden ocasionar errores inesperados.**"
   ]
  },
  {
   "cell_type": "code",
   "execution_count": 23,
   "metadata": {},
   "outputs": [
    {
     "name": "stdout",
     "output_type": "stream",
     "text": [
      "Barra Normal: \\ Barra Invertida: /\n"
     ]
    }
   ],
   "source": [
    "print ('Barra Normal: \\\\ Barra Invertida: /')"
   ]
  },
  {
   "cell_type": "markdown",
   "metadata": {},
   "source": [
    "##### Tu amigo ha creado una fábrica de cerveza y necesita darle a su producto una identidad única. Diseña un programa en Python que solicite al usuario ingresar dos palabras, y luego combine esas palabras para formar un nombre creativo para la cerveza. Asegúrate de que el nombre de la cerveza se muestre entre comillas en dos líneas separadas para resaltar su singularidad. Este ejercicio evaluará tu capacidad para utilizar variables, entrada de usuario, concatenación de cadenas y salida de datos en Python.\n",
    "\n",
    "*Recuerda:*\n",
    "\n",
    "- Solicitar al usuario ingresar dos palabras mediante el uso de la función input().\n",
    "- Utilizar variables para almacenar las palabras ingresadas por el usuario.\n",
    "- Combinar las palabras para formar el nombre de la cerveza.\n",
    "- Mostrar el nombre de la cerveza entre comillas en dos líneas separadas utilizando la función print()."
   ]
  },
  {
   "cell_type": "code",
   "execution_count": 3,
   "metadata": {},
   "outputs": [
    {
     "name": "stdout",
     "output_type": "stream",
     "text": [
      "El nombre de tu cerveza es... \n",
      "\t\u001b[1m\u001b[96m \"Cerveza Creativa\"\u001b[0m\n"
     ]
    }
   ],
   "source": [
    "p1 = input(\"\\nIngresa la primera palabra: \")\n",
    "p2 = input(\"\\nIngresa la segunda palabra: \")\n",
    "\n",
    "print(f\"El nombre de tu cerveza es... \\n\\t{format.BOLD}{format.OKCYAN} \\\"{p1} {p2}\\\"{format.ENDC}\")"
   ]
  }
 ],
 "metadata": {
  "kernelspec": {
   "display_name": "Python 3",
   "language": "python",
   "name": "python3"
  },
  "language_info": {
   "codemirror_mode": {
    "name": "ipython",
    "version": 3
   },
   "file_extension": ".py",
   "mimetype": "text/x-python",
   "name": "python",
   "nbconvert_exporter": "python",
   "pygments_lexer": "ipython3",
   "version": "3.12.2"
  }
 },
 "nbformat": 4,
 "nbformat_minor": 2
}
