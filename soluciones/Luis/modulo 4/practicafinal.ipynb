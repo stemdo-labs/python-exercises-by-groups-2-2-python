{
 "cells": [
  {
   "cell_type": "code",
   "execution_count": 9,
   "metadata": {},
   "outputs": [
    {
     "name": "stdout",
     "output_type": "stream",
     "text": [
      "Gracias por este regalo, Luis\n"
     ]
    }
   ],
   "source": [
    "nombre = input(\"¿Cómo te llamas? \")\n",
    "print(f\"Gracias por este regalo, {nombre}\")"
   ]
  },
  {
   "cell_type": "code",
   "execution_count": 10,
   "metadata": {},
   "outputs": [],
   "source": [
    "from random import seed\n",
    "from random import randint"
   ]
  },
  {
   "cell_type": "code",
   "execution_count": 11,
   "metadata": {},
   "outputs": [
    {
     "name": "stdout",
     "output_type": "stream",
     "text": [
      "He pensado en un número natural del 1 al 100, trata de adivinarlo\n",
      "(q para salir)\n",
      "Intenta adivinar en qué numero pienso: \n",
      "El número secreto es menor que 50\n",
      "Llevas 1 intentos de 8\n",
      "El número secreto es menor que 25\n",
      "Llevas 2 intentos de 8\n",
      "El número secreto es menor que 16\n",
      "Llevas 3 intentos de 8\n",
      "El número secreto es mayor que 8\n",
      "Llevas 4 intentos de 8\n",
      "El número secreto es mayor que 12\n",
      "Llevas 5 intentos de 8\n",
      "El número secreto es menor que 60\n",
      "Llevas 6 intentos de 8\n",
      "El número secreto es menor que 60\n",
      "Llevas 7 intentos de 8\n",
      "El número secreto es menor que 60\n",
      "Llevas 8 intentos de 8\n",
      "Fallaste, no encontraste el número secreto 15\n"
     ]
    }
   ],
   "source": [
    "seed()\n",
    "numeroSecreto=randint(1, 100)\n",
    "\n",
    "print('He pensado en un número natural del 1 al 100, trata de adivinarlo')\n",
    "\n",
    "noEncontrado=True\n",
    "nIntentos=0\n",
    "nMax=8\n",
    "print('(q para salir)')\n",
    "print('Intenta adivinar en qué numero pienso: ')\n",
    "\n",
    "while(noEncontrado and nIntentos < nMax):\n",
    "    try:\n",
    "        numeroDelUsuario=input('Dame un número:')\n",
    "        if(numeroDelUsuario == 'q'):\n",
    "            noEncontrado=False\n",
    "            continue\n",
    "        numeroComoInt=int(numeroDelUsuario)\n",
    "        nIntentos+=1\n",
    "        if(numeroComoInt<=0 | numeroComoInt >100):\n",
    "            print('Porfa, algo entre 1 y 100')\n",
    "            continue\n",
    "        if(numeroComoInt>numeroSecreto):\n",
    "            print(f'El número secreto es menor que {numeroComoInt}')\n",
    "        elif(numeroComoInt<numeroSecreto):\n",
    "            print(f'El número secreto es mayor que {numeroComoInt}')\n",
    "        else:\n",
    "            print(f'Lo acertaste, es {numeroComoInt}, en el intento número {nIntentos}, felicidades!')\n",
    "            noEncontrado=False\n",
    "        print(f'Llevas {nIntentos} intentos de {nMax}')\n",
    "        continue\n",
    "    except ValueError:\n",
    "        print(\"Eso no es un número, pero voy a ser bueno y no te lo cuento contra tu número de intentos\")        \n",
    "\n",
    "if(noEncontrado and nIntentos>=nMax):\n",
    "    print(f'Fallaste, no encontraste el número secreto {numeroSecreto}')"
   ]
  }
 ],
 "metadata": {
  "kernelspec": {
   "display_name": "Python 3",
   "language": "python",
   "name": "python3"
  },
  "language_info": {
   "codemirror_mode": {
    "name": "ipython",
    "version": 3
   },
   "file_extension": ".py",
   "mimetype": "text/x-python",
   "name": "python",
   "nbconvert_exporter": "python",
   "pygments_lexer": "ipython3",
   "version": "3.12.2"
  }
 },
 "nbformat": 4,
 "nbformat_minor": 2
}
