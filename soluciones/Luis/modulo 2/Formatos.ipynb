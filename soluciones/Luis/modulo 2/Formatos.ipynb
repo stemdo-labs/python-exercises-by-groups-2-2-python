{
 "cells": [
  {
   "cell_type": "markdown",
   "metadata": {},
   "source": [
    "## Formatos"
   ]
  },
  {
   "cell_type": "markdown",
   "metadata": {},
   "source": [
    "### Necesitamos imprimir el nombre y número de asociado dentro de la siguiente frase\n",
    "<br>\n",
    "\n",
    "> Estimado/a (nombre_asociado), su número de asociado es: (numero_asociado)\n",
    "\n",
    "<br>\n",
    "\n",
    "*Recuerda que la precisión de tu respuesta (espacios, ortografía y puntuación), es muy importante para llegar al resultado correcto*"
   ]
  },
  {
   "cell_type": "code",
   "execution_count": null,
   "metadata": {},
   "outputs": [],
   "source": []
  },
  {
   "cell_type": "code",
   "execution_count": null,
   "metadata": {},
   "outputs": [],
   "source": []
  }
 ],
 "metadata": {
  "language_info": {
   "name": "python"
  }
 },
 "nbformat": 4,
 "nbformat_minor": 2
}
