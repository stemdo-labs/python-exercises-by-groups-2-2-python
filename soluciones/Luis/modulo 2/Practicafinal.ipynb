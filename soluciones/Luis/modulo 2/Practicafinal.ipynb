{
 "cells": [
  {
   "cell_type": "markdown",
   "metadata": {},
   "source": [
    "## Práctica Final"
   ]
  },
  {
   "cell_type": "markdown",
   "metadata": {},
   "source": [
    "##### En esta prueba, crearás un programa en Python para ayudar a calcular las comisiones de los vendedores de una empresa. El programa solicitará al usuario que ingrese su nombre y el monto de ventas que ha realizado en el mes. Luego, calculará la comisión del 13% sobre el monto de ventas ingresado y mostrará un mensaje que incluye el nombre del vendedor y el monto de la comisión.\n",
    "\n",
    "Instrucciones:\n",
    "\n",
    "1. Utiliza la función input() para solicitar al usuario que ingrese su nombre y el monto de ventas del mes.\n",
    "1. Convierte el monto de ventas ingresado a tipo float para poder realizar operaciones matemáticas.\n",
    "1. Calcula la comisión del 13% sobre el monto de ventas ingresado.\n",
    "1. Utiliza formateo de cadenas para construir un mensaje que incluya el nombre del vendedor y el monto de la comisión calculada, asegurándote de que el monto de la comisión tenga dos decimales.\n",
    "1. Utiliza la función print() para mostrar el mensaje en pantalla.\n",
    "\n",
    "Recuerda:\n",
    "\n",
    "* El monto de ventas ingresado por el usuario debe convertirse a tipo float antes de realizar operaciones matemáticas.\n",
    "* La comisión se calcula multiplicando el monto de ventas por 13% (o 0.13).\n",
    "* Puedes usar el formateo de cadenas para construir un mensaje fácilmente legible y comprensible para el usuario."
   ]
  },
  {
   "cell_type": "code",
   "execution_count": 5,
   "metadata": {},
   "outputs": [
    {
     "name": "stdout",
     "output_type": "stream",
     "text": [
      "Bien\n"
     ]
    }
   ],
   "source": [
    "nombre = input(\"Danos tu nombre: \")\n",
    "\n",
    "isValid = False\n",
    "while not isValid:\n",
    "    monto = input(\"Dame el valor del monto: \")\n",
    "    try:\n",
    "        monto = float(monto)\n",
    "        isValid=True\n",
    "        print(\"Bien\")\n",
    "    except ValueError:\n",
    "        print(\"No has introducido un valor numérico, prueba otra vez\")\n",
    "\n",
    "\n"
   ]
  },
  {
   "cell_type": "code",
   "execution_count": null,
   "metadata": {},
   "outputs": [],
   "source": []
  }
 ],
 "metadata": {
  "kernelspec": {
   "display_name": "Python 3",
   "language": "python",
   "name": "python3"
  },
  "language_info": {
   "codemirror_mode": {
    "name": "ipython",
    "version": 3
   },
   "file_extension": ".py",
   "mimetype": "text/x-python",
   "name": "python",
   "nbconvert_exporter": "python",
   "pygments_lexer": "ipython3",
   "version": "3.12.2"
  }
 },
 "nbformat": 4,
 "nbformat_minor": 2
}
