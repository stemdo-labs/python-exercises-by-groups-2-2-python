{
 "cells": [
  {
   "cell_type": "markdown",
   "metadata": {},
   "source": [
    "## Conversiones"
   ]
  },
  {
   "cell_type": "markdown",
   "metadata": {},
   "source": [
    "### 1. Convierte el valor de num2 en un int e imprime el tipo de dato que resulta"
   ]
  },
  {
   "cell_type": "code",
   "execution_count": 4,
   "metadata": {},
   "outputs": [
    {
     "name": "stdout",
     "output_type": "stream",
     "text": [
      "La variable num2 vale 1.2345678752 es de tipo <class 'float'>\n",
      "Ahora la variable vale 1, y es de tipo <class 'int'> \n",
      "Gracias a la función round(num1)\n",
      "Alternativamente, puedo usar int(num1) para realizar la conversión, dando el resultado: 1\n"
     ]
    }
   ],
   "source": [
    "num1 = 1.2345678752\n",
    "print(f\"La variable num2 vale {num1} es de tipo {type(num1)}\")\n",
    "num1int = round(num1)\n",
    "print(f\"Ahora la variable vale {num1int}, y es de tipo {type(num1int)} \\nGracias a la función round(num1)\")\n",
    "\n",
    "print(f\"Alternativamente, puedo usar int(num1) para realizar la conversión, dando el resultado: {int(num1)}\")\n",
    "num1=int(num1)"
   ]
  },
  {
   "cell_type": "markdown",
   "metadata": {},
   "source": [
    "#### 2. Convierte el valor de num2 en un float e imprime el tipo de dato que resulta"
   ]
  },
  {
   "cell_type": "code",
   "execution_count": 3,
   "metadata": {},
   "outputs": [
    {
     "name": "stdout",
     "output_type": "stream",
     "text": [
      "La variable num2 vale 2 es de tipo <class 'int'>\n",
      "Ahora la variable vale 2.0, y es de tipo <class 'float'>\n",
      "Gracias a sumarle 0.0, el cual es un <class 'float'>\n",
      "Alternativamente, puedo usar float(num2), para obtener \n",
      "\t2.0, con tipo <class 'float'>\n",
      "pero para controlar el número de digitos prefiero usar round(float(num2), 3) y obtener \n",
      "\t2.0, con tipo <class 'float'> \n",
      "aunque parece que no tengo tanto control como pensaba con estas opciones\n"
     ]
    }
   ],
   "source": [
    "num2 = 2\n",
    "print(f\"La variable num2 vale {num2} es de tipo {type(num2)}\")\n",
    "num2float = num2 + 0.0\n",
    "print(f\"Ahora la variable vale {num2float}, y es de tipo {type(num2float)}\\nGracias a sumarle 0.0, el cual es un {type(0.0)}\")\n",
    "print(f\"Alternativamente, puedo usar float(num2), para obtener \\n\\t{float(num2)}, con tipo {type(float(num2))}\\npero para controlar el número de digitos prefiero usar round(float(num2), 3) y obtener \\n\\t{round(float(num2), 3)}, con tipo {type(round(float(num2), 3))} \\naunque parece que no tengo tanto control como pensaba con estas opciones\")\n",
    "num2=float(num2)"
   ]
  },
  {
   "cell_type": "markdown",
   "metadata": {},
   "source": [
    " ### 3. Suma los valores:\n",
    " \n",
    ">  **Num1 y Num2**.\n",
    "\n",
    "*No modifiques el valor de las variables ya declaradas, sino aplica las conversiones necesarias dentro de la función print().*"
   ]
  },
  {
   "cell_type": "code",
   "execution_count": 7,
   "metadata": {},
   "outputs": [
    {
     "name": "stdout",
     "output_type": "stream",
     "text": [
      "3.2345678751999998\n"
     ]
    }
   ],
   "source": [
    "num1 = 1.2345678752\n",
    "num2 = 2\n",
    "##Las devuelvo a su alor original para que veamos lo que pasa\n",
    "print(f\"{num1+num2}\")"
   ]
  },
  {
   "cell_type": "markdown",
   "metadata": {},
   "source": [
    "##### Python hace una conversión implícita, así que no es realmente necesario, pero si queremos, podemos usar int(num1), float(num2) o viceversa. Pero al convertir un float que s eha convertido en int a float de nuevo, no recuperaremos los dígitos que perdimos."
   ]
  },
  {
   "cell_type": "code",
   "execution_count": 9,
   "metadata": {},
   "outputs": [
    {
     "name": "stdout",
     "output_type": "stream",
     "text": [
      "num1 vale 1.2345678752 y es un <class 'float'>\n",
      "num2 vale 2 y es un <class 'int'>\n",
      "Una forma de sumarlo con los conversores y bastante control de qué enseñamos es: \n",
      "1.2346 + 2 = 3.2346\n"
     ]
    }
   ],
   "source": [
    "print(f\"num1 vale {num1} y es un {type(num1)}\")\n",
    "print(f\"num2 vale {num2} y es un {type(num2)}\")\n",
    "\n",
    "print(\"Una forma de sumarlo con los conversores y bastante control de qué enseñamos es: \")\n",
    "print(f\"{round(float(num1), 4)} + {num2} = {round(float(num1) + num2, 4)}\")\n",
    "\n"
   ]
  }
 ],
 "metadata": {
  "kernelspec": {
   "display_name": "Python 3",
   "language": "python",
   "name": "python3"
  },
  "language_info": {
   "codemirror_mode": {
    "name": "ipython",
    "version": 3
   },
   "file_extension": ".py",
   "mimetype": "text/x-python",
   "name": "python",
   "nbconvert_exporter": "python",
   "pygments_lexer": "ipython3",
   "version": "3.12.2"
  }
 },
 "nbformat": 4,
 "nbformat_minor": 2
}
