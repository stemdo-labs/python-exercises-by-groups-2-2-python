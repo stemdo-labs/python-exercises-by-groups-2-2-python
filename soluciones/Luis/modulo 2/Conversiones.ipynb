{
 "cells": [
  {
   "cell_type": "markdown",
   "metadata": {},
   "source": [
    "## Conversiones"
   ]
  },
  {
   "cell_type": "markdown",
   "metadata": {},
   "source": [
    "### Convierte el valor de num2 en un int e imprime el tipo de dato que resulta"
   ]
  },
  {
   "cell_type": "code",
   "execution_count": 3,
   "metadata": {},
   "outputs": [
    {
     "name": "stdout",
     "output_type": "stream",
     "text": [
      "La variable num2 vale 1.2345678752 es de tipo <class 'float'>\n",
      "Ahora la variable vale 1, y es de tipo <class 'int'> \n",
      "Gracias a la función round(num1)\n"
     ]
    }
   ],
   "source": [
    "num1 = 1.2345678752\n",
    "print(f\"La variable num2 vale {num1} es de tipo {type(num1)}\")\n",
    "num1int = round(num1)\n",
    "print(f\"Ahora la variable vale {num1int}, y es de tipo {type(num1int)} \\nGracias a la función round(num1)\")\n",
    "\n",
    "print(f\"Alternativamente, puedo usar int(num1) para realizar la conversión, dando el resultado: {int(num1)}\")\n"
   ]
  },
  {
   "cell_type": "code",
   "execution_count": 5,
   "metadata": {},
   "outputs": [
    {
     "name": "stdout",
     "output_type": "stream",
     "text": [
      "La variable num2 vale 2 es de tipo <class 'int'>\n",
      "Ahora la variable vale 2.0, y es de tipo <class 'float'> \n",
      "Gracias a la función round(num2)\n"
     ]
    }
   ],
   "source": [
    "num2 = 2\n",
    "print(f\"La variable num2 vale {num2} es de tipo {type(num2)}\")\n",
    "num2float = num2 + 0.0\n",
    "print(f\"Ahora la variable vale {num2float}, y es de tipo {type(num2float)} \\nGracias a la función round(num2)\")\n"
   ]
  }
 ],
 "metadata": {
  "kernelspec": {
   "display_name": "Python 3",
   "language": "python",
   "name": "python3"
  },
  "language_info": {
   "codemirror_mode": {
    "name": "ipython",
    "version": 3
   },
   "file_extension": ".py",
   "mimetype": "text/x-python",
   "name": "python",
   "nbconvert_exporter": "python",
   "pygments_lexer": "ipython3",
   "version": "3.12.2"
  }
 },
 "nbformat": 4,
 "nbformat_minor": 2
}
