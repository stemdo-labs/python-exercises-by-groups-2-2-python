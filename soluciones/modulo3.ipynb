{
 "cells": [
  {
   "cell_type": "code",
   "execution_count": 3,
   "metadata": {},
   "outputs": [
    {
     "name": "stdout",
     "output_type": "stream",
     "text": [
      "False\n"
     ]
    }
   ],
   "source": [
    "# Booleanos 1\n",
    "\n",
    "comparacion = 1 < 0\n",
    "\n",
    "print(comparacion)"
   ]
  },
  {
   "cell_type": "code",
   "execution_count": 4,
   "metadata": {},
   "outputs": [
    {
     "name": "stdout",
     "output_type": "stream",
     "text": [
      "False\n"
     ]
    }
   ],
   "source": [
    "# Booleanos 2\n",
    "\n",
    "comparacion = 17834/34 > 87 * 56\n",
    "\n",
    "print(comparacion)"
   ]
  },
  {
   "cell_type": "code",
   "execution_count": 2,
   "metadata": {},
   "outputs": [
    {
     "name": "stdout",
     "output_type": "stream",
     "text": [
      "True\n"
     ]
    }
   ],
   "source": [
    "# Booleanos 3\n",
    "\n",
    "raiz_de_25_es_5 = 25 ** 0.5 == 5\n",
    "\n",
    "print(raiz_de_25_es_5)"
   ]
  },
  {
   "cell_type": "code",
   "execution_count": 11,
   "metadata": {},
   "outputs": [
    {
     "name": "stdout",
     "output_type": "stream",
     "text": [
      "nombre Karen\n",
      "apellido Jurgens\n",
      "edad 35\n",
      "ocupacion Periodista\n",
      "{'nombre': 'Karen', 'apellido': 'Jurgens', 'edad': 36, 'ocupacion': 'Periodista', 'pais': 'Colombia'}\n"
     ]
    }
   ],
   "source": [
    "# Diccionario 1\n",
    "\n",
    "mi_dic = {\"nombre\":\"Karen\", \"apellido\":\"Jurgens\", \"edad\": 35, \"ocupacion\": \"Periodista\"}\n",
    "\n",
    "for index,value in mi_dic.items():\n",
    "    print(index,value)\n",
    "\n",
    "# Diccionario 3\n",
    "mi_dic[\"edad\"] = 36\n",
    "mi_dic[\"ocupacion\"] = \"Periodista\"\n",
    "mi_dic[\"pais\"] = \"Colombia\"\n",
    "\n",
    "print(mi_dic)"
   ]
  },
  {
   "cell_type": "code",
   "execution_count": 12,
   "metadata": {},
   "outputs": [
    {
     "name": "stdout",
     "output_type": "stream",
     "text": [
      "['Hola', 1, 2, False, [1, 2, 3]]\n"
     ]
    }
   ],
   "source": [
    "# Listas 1\n",
    "\n",
    "mi_lista = [\"Hola\", 1, 2, False, [1, 2, 3]]\n",
    "\n",
    "print(mi_lista)"
   ]
  },
  {
   "cell_type": "code",
   "execution_count": 13,
   "metadata": {},
   "outputs": [
    {
     "name": "stdout",
     "output_type": "stream",
     "text": [
      "['avión', 'auto', 'barco', 'bicicleta', 'motocicleta']\n"
     ]
    }
   ],
   "source": [
    "# Listas 2\n",
    "\n",
    "medios_transporte = [\"avión\", \"auto\", \"barco\", \"bicicleta\"]\n",
    "\n",
    "medios_transporte.append(\"motocicleta\")\n",
    "\n",
    "print(medios_transporte)"
   ]
  },
  {
   "cell_type": "code",
   "execution_count": 14,
   "metadata": {},
   "outputs": [
    {
     "name": "stdout",
     "output_type": "stream",
     "text": [
      "mango ['manzana', 'banana', 'cereza', 'sandia']\n"
     ]
    }
   ],
   "source": [
    "# Listas 3\n",
    "\n",
    "frutas = [\"manzana\", \"banana\", \"mango\", \"cereza\", \"sandia\"]\n",
    "\n",
    "eliminada = frutas.pop(2)\n",
    "\n",
    "print(eliminada, frutas)"
   ]
  },
  {
   "cell_type": "code",
   "execution_count": 16,
   "metadata": {},
   "outputs": [
    {
     "name": "stdout",
     "output_type": "stream",
     "text": [
      "N\n"
     ]
    }
   ],
   "source": [
    "# Index 1\n",
    "\n",
    "w = \"ordeNador\"\n",
    "\n",
    "print(w[4])"
   ]
  },
  {
   "cell_type": "code",
   "execution_count": 24,
   "metadata": {},
   "outputs": [
    {
     "name": "stdout",
     "output_type": "stream",
     "text": [
      "26\n",
      "57\n"
     ]
    }
   ],
   "source": [
    "# Index 2\n",
    "\n",
    "frase = \"En teoría, la teoría y la práctica son los mismos. En la práctica, no lo son.\"\n",
    "\n",
    "print(frase.index(\"práctica\"))\n",
    "\n",
    "# Index 3\n",
    "\n",
    "print(frase.rindex(\"práctica\"))"
   ]
  },
  {
   "cell_type": "code",
   "execution_count": 25,
   "metadata": {},
   "outputs": [
    {
     "name": "stdout",
     "output_type": "stream",
     "text": [
      "ESPECIALMENTE EN LAS COMUNICACIONES ELECTRÓNICAS, LA ESCRITURA ENTERAMENTE EN MAYÚSCULAS EQUIVALE A GRITAR.\n"
     ]
    }
   ],
   "source": [
    "# mString 1\n",
    "\n",
    "frase = \"Especialmente en las comunicaciones electrónicas, la escritura enteramente en mayúsculas equivale a gritar.\"\n",
    "\n",
    "print(frase.upper())"
   ]
  },
  {
   "cell_type": "code",
   "execution_count": 27,
   "metadata": {},
   "outputs": [
    {
     "name": "stdout",
     "output_type": "stream",
     "text": [
      "La legibilidad cuenta.\n"
     ]
    }
   ],
   "source": [
    "# mString 2\n",
    "\n",
    "lista_palabras = [\"La\",\"legibilidad\",\"cuenta.\"]\n",
    "\n",
    "print(\" \".join(lista_palabras))"
   ]
  },
  {
   "cell_type": "code",
   "execution_count": 20,
   "metadata": {},
   "outputs": [
    {
     "name": "stdout",
     "output_type": "stream",
     "text": [
      "difícil\n",
      "mala\n",
      "Si la implementación es fácil de explicar, puede que sea una buena idea.\n"
     ]
    }
   ],
   "source": [
    "# mString 3\n",
    "\n",
    "frase = \"Si la implementación es difícil de explicar, puede que sea una mala idea.\"\n",
    "rep_frase = \"\"\n",
    "\n",
    "rep_w = {\"difícil\": \"fácil\", \"mala\": \"buena\"}\n",
    "\n",
    "for index, value in rep_w.items():\n",
    "    print(index)\n",
    "    frase = frase.replace(index, value)\n",
    "\n",
    "print(frase)"
   ]
  },
  {
   "cell_type": "code",
   "execution_count": 28,
   "metadata": {},
   "outputs": [
    {
     "name": "stdout",
     "output_type": "stream",
     "text": [
      "RepeticiónRepeticiónRepeticiónRepeticiónRepeticiónRepeticiónRepeticiónRepeticiónRepeticiónRepeticiónRepeticiónRepeticiónRepeticiónRepeticiónRepetición\n"
     ]
    }
   ],
   "source": [
    "# Propiedades String 1\n",
    "\n",
    "w = \"Repetición\"\n",
    "\n",
    "print(w*15)"
   ]
  },
  {
   "cell_type": "code",
   "execution_count": 32,
   "metadata": {},
   "outputs": [
    {
     "name": "stdout",
     "output_type": "stream",
     "text": [
      "False\n"
     ]
    }
   ],
   "source": [
    "# Propiedades String 2\n",
    "\n",
    "haiku = \"\"\"*Tierra mojada,*\n",
    "\n",
    "*mis recuerdos de viaje*\n",
    "\n",
    "*entre las lluvias*\"\"\"\n",
    "\n",
    "print(\"agua\" in haiku)"
   ]
  },
  {
   "cell_type": "code",
   "execution_count": 33,
   "metadata": {},
   "outputs": [
    {
     "name": "stdout",
     "output_type": "stream",
     "text": [
      "23\n"
     ]
    }
   ],
   "source": [
    "# Propiedades String 3\n",
    "\n",
    "w = \"electroencefalografista\"\n",
    "\n",
    "print(len(w))"
   ]
  },
  {
   "cell_type": "code",
   "execution_count": 34,
   "metadata": {},
   "outputs": [
    {
     "name": "stdout",
     "output_type": "stream",
     "text": [
      "6\n"
     ]
    }
   ],
   "source": [
    "# Tuplas 1\n",
    "\n",
    "mi_tupla = (1, 2, 3, 2, 3, 1, 3, 2, 3, 3, 3, 1, 3, 2, 2, 1, 3, 2)\n",
    "\n",
    "print(mi_tupla.count(2))"
   ]
  },
  {
   "cell_type": "code",
   "execution_count": 35,
   "metadata": {},
   "outputs": [
    {
     "name": "stdout",
     "output_type": "stream",
     "text": [
      "[1, 2, 3, 2, 3, 1, 3, 2]\n"
     ]
    }
   ],
   "source": [
    "# Tuplas 2\n",
    "\n",
    "mi_tupla = (1, 2, 3, 2, 3, 1, 3, 2)\n",
    "\n",
    "print(list(mi_tupla))"
   ]
  },
  {
   "cell_type": "code",
   "execution_count": 38,
   "metadata": {},
   "outputs": [
    {
     "name": "stdout",
     "output_type": "stream",
     "text": [
      "1 2 3 4\n"
     ]
    }
   ],
   "source": [
    "# Tuplas 3\n",
    "\n",
    "mi_tupla = (1, 2, 3, 4)\n",
    "\n",
    "a, b, c, d = mi_tupla\n",
    "\n",
    "print(a, b, c, d)"
   ]
  },
  {
   "cell_type": "code",
   "execution_count": 39,
   "metadata": {},
   "outputs": [
    {
     "name": "stdout",
     "output_type": "stream",
     "text": [
      "{1, 2, 'cuatro', 4, 5, 'tres'}\n"
     ]
    }
   ],
   "source": [
    "# Set 1\n",
    "\n",
    "mi_set_1 = {1, 2, \"tres\", \"cuatro\"}\n",
    "mi_set_2 = {\"tres\", 4, 5}\n",
    "\n",
    "mi_set_3 = mi_set_1.union(mi_set_2)\n",
    "\n",
    "print(mi_set_3)"
   ]
  },
  {
   "cell_type": "code",
   "execution_count": 42,
   "metadata": {},
   "outputs": [
    {
     "name": "stdout",
     "output_type": "stream",
     "text": [
      "{'Camila', 'Margarita', 'Miguel', 'Mónica', 'Axel'}\n"
     ]
    }
   ],
   "source": [
    "# Set 2\n",
    "\n",
    "sorteo = {\"Camila\", \"Margarita\", \"Axel\", \"Jorge\", \"Miguel\", \"Mónica\"}\n",
    "\n",
    "sorteo.pop()\n",
    "\n",
    "print(sorteo)"
   ]
  },
  {
   "cell_type": "code",
   "execution_count": 43,
   "metadata": {},
   "outputs": [
    {
     "name": "stdout",
     "output_type": "stream",
     "text": [
      "{'Jorge', 'Damián', 'Camila', 'Margarita', 'Miguel', 'Mónica', 'Axel'}\n"
     ]
    }
   ],
   "source": [
    "# Set 3\n",
    "\n",
    "sorteo = {\"Camila\", \"Margarita\", \"Axel\", \"Jorge\", \"Miguel\", \"Mónica\"}\n",
    "\n",
    "sorteo.add(\"Damián\")\n",
    "\n",
    "print(sorteo)"
   ]
  },
  {
   "cell_type": "code",
   "execution_count": 44,
   "metadata": {},
   "outputs": [
    {
     "name": "stdout",
     "output_type": "stream",
     "text": [
      "Controlar\n"
     ]
    }
   ],
   "source": [
    "# Substring 1\n",
    "\n",
    "frase = \"Controlar la complejidad es la esencia de la programación\"\n",
    "\n",
    "print(frase[:9])"
   ]
  },
  {
   "cell_type": "code",
   "execution_count": 46,
   "metadata": {},
   "outputs": [
    {
     "name": "stdout",
     "output_type": "stream",
     "text": [
      "neeuoed eoualz rnvta\n"
     ]
    }
   ],
   "source": [
    "# Substring 2\n",
    "\n",
    "frase = \"Nunca confíes en un ordenador que no puedas lanzar por una ventana\"\n",
    "\n",
    "print(frase[8::3])"
   ]
  },
  {
   "cell_type": "code",
   "execution_count": 47,
   "metadata": {},
   "outputs": [
    {
     "name": "stdout",
     "output_type": "stream",
     "text": [
      "azevrec ut nebeb es on y odot nadreucer ol ,netucsid oN .serodanedro noc rajabart laineg sE\n"
     ]
    }
   ],
   "source": [
    "# Substring 3\n",
    "\n",
    "frase = \"Es genial trabajar con ordenadores. No discuten, lo recuerdan todo y no se beben tu cerveza\"\n",
    "\n",
    "print(frase[::-1])"
   ]
  },
  {
   "cell_type": "code",
   "execution_count": 50,
   "metadata": {},
   "outputs": [
    {
     "name": "stdout",
     "output_type": "stream",
     "text": [
      "\n",
      "Resultados del análisis:\n",
      "Texto: ssssssssssssss\n",
      "Veces que aparece 's': 14\n",
      "Veces que aparece 's': 14\n",
      "Veces que aparece 's': 14\n",
      "Cantidad total de palabras: 1\n",
      "Primera letra del texto: s\n",
      "Última letra del texto: s\n",
      "Texto invertido: ssssssssssssss\n",
      "¿La palabra 'Python' está presente?: No\n"
     ]
    }
   ],
   "source": [
    "# Practica final\n",
    "\n",
    "texto = input(\"Ingrese un texto: \")\n",
    "\n",
    "letra1 = input(\"Ingrese la primera letra: \").lower()\n",
    "letra2 = input(\"Ingrese la segunda letra: \").lower()\n",
    "letra3 = input(\"Ingrese la tercera letra: \").lower()\n",
    "\n",
    "apariciones_letra1 = texto.lower().count(letra1)\n",
    "apariciones_letra2 = texto.lower().count(letra2)\n",
    "apariciones_letra3 = texto.lower().count(letra3)\n",
    "\n",
    "palabras = texto.split()\n",
    "cantidad_palabras = len(palabras)\n",
    "\n",
    "primera_letra = texto[0].lower()\n",
    "ultima_letra = texto[-1].lower()\n",
    "\n",
    "texto_invertido = ' '.join(reversed(palabras))\n",
    "\n",
    "python_presente = \"Python\" in texto\n",
    "\n",
    "print(\"\\nResultados del análisis:\")\n",
    "print(f\"Texto: {texto}\")\n",
    "print(f\"Veces que aparece '{letra1}': {apariciones_letra1}\")\n",
    "print(f\"Veces que aparece '{letra2}': {apariciones_letra2}\")\n",
    "print(f\"Veces que aparece '{letra3}': {apariciones_letra3}\")\n",
    "print(f\"Cantidad total de palabras: {cantidad_palabras}\")\n",
    "print(f\"Primera letra del texto: {primera_letra}\")\n",
    "print(f\"Última letra del texto: {ultima_letra}\")\n",
    "print(f\"Texto invertido: {texto_invertido}\")\n",
    "print(f\"¿La palabra 'Python' está presente?: {'Sí' if python_presente else 'No'}\")\n",
    "\n"
   ]
  }
 ],
 "metadata": {
  "kernelspec": {
   "display_name": "Python 3",
   "language": "python",
   "name": "python3"
  },
  "language_info": {
   "codemirror_mode": {
    "name": "ipython",
    "version": 3
   },
   "file_extension": ".py",
   "mimetype": "text/x-python",
   "name": "python",
   "nbconvert_exporter": "python",
   "pygments_lexer": "ipython3",
   "version": "3.12.3"
  }
 },
 "nbformat": 4,
 "nbformat_minor": 2
}
