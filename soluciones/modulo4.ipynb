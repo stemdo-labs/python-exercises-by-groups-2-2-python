{
 "cells": [
  {
   "cell_type": "code",
   "execution_count": 8,
   "metadata": {},
   "outputs": [
    {
     "name": "stdout",
     "output_type": "stream",
     "text": [
      "True\n"
     ]
    }
   ],
   "source": [
    "# Comparaciones 1\n",
    "\n",
    "num1 = 36\n",
    "num2 = 17\n",
    "\n",
    "mi_bool = num1 >= num2\n",
    "\n",
    "print(mi_bool)"
   ]
  },
  {
   "cell_type": "code",
   "execution_count": 7,
   "metadata": {},
   "outputs": [
    {
     "name": "stdout",
     "output_type": "stream",
     "text": [
      "True\n"
     ]
    }
   ],
   "source": [
    "# Comparaciones 2\n",
    "\n",
    "num1 = 25 ** 0.5\n",
    "num2 = 5\n",
    "\n",
    "mi_bool = num1 == num2\n",
    "\n",
    "print(mi_bool)"
   ]
  },
  {
   "cell_type": "code",
   "execution_count": 6,
   "metadata": {},
   "outputs": [
    {
     "name": "stdout",
     "output_type": "stream",
     "text": [
      "False\n"
     ]
    }
   ],
   "source": [
    "# Comparaciones 3\n",
    "\n",
    "num1 = 64 * 3\n",
    "num2 = 24 * 8\n",
    "\n",
    "mi_bool = num1 != num2\n",
    "\n",
    "print(mi_bool)"
   ]
  },
  {
   "cell_type": "code",
   "execution_count": 11,
   "metadata": {},
   "outputs": [
    {
     "name": "stdout",
     "output_type": "stream",
     "text": [
      "False\n"
     ]
    }
   ],
   "source": [
    "# Operadores 1\n",
    "\n",
    "num1 = 36\n",
    "num2 = 72/2\n",
    "num3 = 48\n",
    "\n",
    "mi_bool = num1 > num2 < num3\n",
    "\n",
    "print(mi_bool)"
   ]
  },
  {
   "cell_type": "code",
   "execution_count": 13,
   "metadata": {},
   "outputs": [
    {
     "name": "stdout",
     "output_type": "stream",
     "text": [
      "True\n"
     ]
    }
   ],
   "source": [
    "# Operadores 2\n",
    "\n",
    "num1 = 36\n",
    "num2 = 72/2\n",
    "num3 = 48\n",
    "\n",
    "mi_bool = num1 > num2 or num1 < num3\n",
    "\n",
    "print(mi_bool)"
   ]
  },
  {
   "cell_type": "code",
   "execution_count": 15,
   "metadata": {},
   "outputs": [
    {
     "name": "stdout",
     "output_type": "stream",
     "text": [
      "\n",
      "Hola rafa! Estoy pensando en un número entre 1 y 100. Tienes 8 intentos para adivinarlo.\n",
      "El número que has elegido es menor que el número secreto.\n",
      "Tienes 7 intentos restantes.\n",
      "El número que has elegido es mayor que el número secreto.\n",
      "Tienes 6 intentos restantes.\n",
      "El número que has elegido es menor que el número secreto.\n",
      "Tienes 5 intentos restantes.\n",
      "\n",
      "¡Felicidades, rafa! ¡Has adivinado el número secreto 67 en 4 intentos!\n"
     ]
    }
   ],
   "source": [
    "import random\n",
    "\n",
    "def adivinanza():\n",
    "    nombre = input(\"Por favor, ingresa tu nombre: \")\n",
    "    print(f\"\\nHola {nombre} Estoy pensando en un número entre 1 y 100. Tienes 8 intentos para adivinarlo.\")\n",
    "\n",
    "    numero_secreto = random.randint(1, 100)\n",
    "    intentos_restantes = 8\n",
    "\n",
    "    while intentos_restantes > 0:\n",
    "        intento = input(\"\\nIngresa tu intento: \")\n",
    "\n",
    "        if not intento.isdigit():\n",
    "            print(\"Por favor, ingresa un número entero.\")\n",
    "            continue\n",
    "\n",
    "        intento = int(intento)\n",
    "\n",
    "        if intento < 1 or intento > 100:\n",
    "            print(\"El número ingresado está fuera del rango permitido (1-100).\")\n",
    "            continue\n",
    "\n",
    "        intentos_restantes -= 1\n",
    "\n",
    "        if intento == numero_secreto:\n",
    "            print(f\"\\nFelicidades, {nombre}. Has adivinado el número secreto {numero_secreto} en {8 - intentos_restantes} intentos\")\n",
    "            break\n",
    "        else:\n",
    "            if intento < numero_secreto:\n",
    "                print(\"El número que has elegido es menor que el número secreto.\")\n",
    "            else:\n",
    "                print(\"El número que has elegido es mayor que el número secreto.\")\n",
    "\n",
    "            print(f\"Tienes {intentos_restantes} intentos restantes.\")\n",
    "\n",
    "    else:\n",
    "        print(f\"\\nLo siento, {nombre}. El número secreto era {numero_secreto}.\")\n",
    "\n",
    "adivinanza()\n"
   ]
  }
 ],
 "metadata": {
  "kernelspec": {
   "display_name": "Python 3",
   "language": "python",
   "name": "python3"
  },
  "language_info": {
   "codemirror_mode": {
    "name": "ipython",
    "version": 3
   },
   "file_extension": ".py",
   "mimetype": "text/x-python",
   "name": "python",
   "nbconvert_exporter": "python",
   "pygments_lexer": "ipython3",
   "version": "3.12.3"
  }
 },
 "nbformat": 4,
 "nbformat_minor": 2
}
