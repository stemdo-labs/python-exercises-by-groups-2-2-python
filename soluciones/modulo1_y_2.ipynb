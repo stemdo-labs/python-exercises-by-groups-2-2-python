{
 "cells": [
  {
   "cell_type": "code",
   "execution_count": 1,
   "metadata": {},
   "outputs": [
    {
     "name": "stdout",
     "output_type": "stream",
     "text": [
      "Me encanta estudiar Python\n"
     ]
    }
   ],
   "source": [
    "# Print\n",
    "\n",
    "print(\"Me encanta estudiar Python\")"
   ]
  },
  {
   "cell_type": "code",
   "execution_count": 2,
   "metadata": {},
   "outputs": [
    {
     "name": "stdout",
     "output_type": "stream",
     "text": [
      "Estudiar con \"STEMDO\" es super divertido\n"
     ]
    }
   ],
   "source": [
    "# String 1\n",
    "\n",
    "print('Estudiar con \"STEMDO\" es super divertido')"
   ]
  },
  {
   "cell_type": "code",
   "execution_count": 8,
   "metadata": {},
   "outputs": [
    {
     "name": "stdout",
     "output_type": "stream",
     "text": [
      "A  B C D E F G H I\n"
     ]
    }
   ],
   "source": [
    "# String 2\n",
    "\n",
    "print(\"A  B C D E F G H I\")"
   ]
  },
  {
   "cell_type": "code",
   "execution_count": 7,
   "metadata": {},
   "outputs": [
    {
     "name": "stdout",
     "output_type": "stream",
     "text": [
      "Barra Normal: / Barra Invertida: \\\n"
     ]
    }
   ],
   "source": [
    "# String 3\n",
    "\n",
    "print(\"Barra Normal: / Barra Invertida: \\\\\")"
   ]
  },
  {
   "cell_type": "code",
   "execution_count": 11,
   "metadata": {},
   "outputs": [
    {
     "name": "stdout",
     "output_type": "stream",
     "text": [
      "El nombre de tu cerveza es: \n",
      "\"ddd eeee\"\n"
     ]
    }
   ],
   "source": [
    "# Practica final\n",
    "\n",
    "nombre_1 = input(\"Ingresa una palabra: \")\n",
    "nombre_2 = input(\"Ingresa otra palabra: \")\n",
    "\n",
    "nombre_cerveza = nombre_1 + \" \" + nombre_2\n",
    "\n",
    "print(f\"El nombre de tu cerveza es: \\n\\\"{nombre_cerveza}\\\"\")"
   ]
  },
  {
   "cell_type": "markdown",
   "metadata": {},
   "source": []
  },
  {
   "cell_type": "code",
   "execution_count": 14,
   "metadata": {},
   "outputs": [
    {
     "name": "stdout",
     "output_type": "stream",
     "text": [
      "24\n",
      "<class 'int'>\n"
     ]
    }
   ],
   "source": [
    "# Conversiones 1\n",
    "\n",
    "num = \"24\"\n",
    "\n",
    "num_int = int(num)\n",
    "\n",
    "print(num_int)\n",
    "print(type(num_int))"
   ]
  },
  {
   "cell_type": "code",
   "execution_count": 15,
   "metadata": {},
   "outputs": [
    {
     "name": "stdout",
     "output_type": "stream",
     "text": [
      "3.222223399\n",
      "<class 'float'>\n"
     ]
    }
   ],
   "source": [
    "# Conversiones 2\n",
    "\n",
    "num = \"3.222223399\"\n",
    "\n",
    "num_float = float(num)\n",
    "\n",
    "print(num_float)\n",
    "print(type(num_float))"
   ]
  },
  {
   "cell_type": "code",
   "execution_count": 16,
   "metadata": {},
   "outputs": [
    {
     "name": "stdout",
     "output_type": "stream",
     "text": [
      "14.5\n"
     ]
    }
   ],
   "source": [
    "# Conversiones 3\n",
    "\n",
    "num_1 = \"10\"\n",
    "num_2 = \"4.5\"\n",
    "\n",
    "print(int(num_1) + float(num_2))"
   ]
  },
  {
   "cell_type": "code",
   "execution_count": 17,
   "metadata": {},
   "outputs": [
    {
     "name": "stdout",
     "output_type": "stream",
     "text": [
      "1.349\n"
     ]
    }
   ],
   "source": [
    "# Float 1\n",
    "\n",
    "num_decimal = 1.349\n",
    "\n",
    "print(num_decimal)"
   ]
  },
  {
   "cell_type": "code",
   "execution_count": 18,
   "metadata": {},
   "outputs": [
    {
     "name": "stdout",
     "output_type": "stream",
     "text": [
      "Has ganado 15 En total, acumulas 115 puntos\n"
     ]
    }
   ],
   "source": [
    "# Formatear cadenas 3\n",
    "\n",
    "# Hago este porque los dos anteriores son iguales pero más simples\n",
    "\n",
    "puntos_nuevos = 15\n",
    "puntos_anteriores = 100\n",
    "\n",
    "print(f\"Has ganado {puntos_nuevos} En total, acumulas {puntos_nuevos + puntos_anteriores} puntos\")"
   ]
  },
  {
   "cell_type": "code",
   "execution_count": 19,
   "metadata": {},
   "outputs": [
    {
     "name": "stdout",
     "output_type": "stream",
     "text": [
      "1\n",
      "<class 'int'>\n"
     ]
    }
   ],
   "source": [
    "# Integer 1\n",
    "\n",
    "num = 1\n",
    "print(num)\n",
    "print(type(num))\n"
   ]
  },
  {
   "cell_type": "code",
   "execution_count": 21,
   "metadata": {},
   "outputs": [
    {
     "name": "stdout",
     "output_type": "stream",
     "text": [
      "<class 'float'>\n"
     ]
    }
   ],
   "source": [
    "# num data 1\n",
    "\n",
    "num1 = 7.5\n",
    "num2 = 2.5\n",
    "\n",
    "print(type(num1 + num2))"
   ]
  },
  {
   "cell_type": "code",
   "execution_count": 23,
   "metadata": {},
   "outputs": [
    {
     "name": "stdout",
     "output_type": "stream",
     "text": [
      "3.33\n"
     ]
    }
   ],
   "source": [
    "# Redondeo 1\n",
    "\n",
    "division = round(10/3, 2)\n",
    "\n",
    "print(division)"
   ]
  },
  {
   "cell_type": "code",
   "execution_count": 24,
   "metadata": {},
   "outputs": [
    {
     "name": "stdout",
     "output_type": "stream",
     "text": [
      "11\n"
     ]
    }
   ],
   "source": [
    "# Redondeo 2\n",
    "\n",
    "print(round(10.676767))"
   ]
  },
  {
   "cell_type": "code",
   "execution_count": 25,
   "metadata": {},
   "outputs": [
    {
     "name": "stdout",
     "output_type": "stream",
     "text": [
      "2.2361\n"
     ]
    }
   ],
   "source": [
    "# Redondeo 3\n",
    "\n",
    "print(round(5 ** 0.5, 4))"
   ]
  },
  {
   "cell_type": "code",
   "execution_count": 26,
   "metadata": {},
   "outputs": [
    {
     "name": "stdout",
     "output_type": "stream",
     "text": [
      "Tony Soprano\n",
      "51\n"
     ]
    }
   ],
   "source": [
    "# Variables 1\n",
    "\n",
    "nombre = \"Tony Soprano\"\n",
    "edad = 51\n",
    "\n",
    "print(nombre)\n",
    "print(edad)"
   ]
  },
  {
   "cell_type": "code",
   "execution_count": 27,
   "metadata": {},
   "outputs": [
    {
     "name": "stdout",
     "output_type": "stream",
     "text": [
      "Estás tomando un curso de Python\n"
     ]
    }
   ],
   "source": [
    "# Variables 3\n",
    "\n",
    "curso = \"Python\"\n",
    "\n",
    "print(\"Estás tomando un curso de \" + curso)"
   ]
  },
  {
   "cell_type": "code",
   "execution_count": 28,
   "metadata": {},
   "outputs": [
    {
     "name": "stdout",
     "output_type": "stream",
     "text": [
      "Rafael Alonso\n"
     ]
    }
   ],
   "source": [
    "# Variables 3\n",
    "\n",
    "nombre = \"Rafael\"\n",
    "apellido = \"Alonso\"\n",
    "nombre_completo = nombre + \" \" + apellido\n",
    "print(nombre_completo)"
   ]
  },
  {
   "cell_type": "code",
   "execution_count": 30,
   "metadata": {},
   "outputs": [
    {
     "name": "stdout",
     "output_type": "stream",
     "text": [
      "El usuario rafa con 100.0 ventas tiene una comision de 13.0\n"
     ]
    }
   ],
   "source": [
    "#  Practica final\n",
    "\n",
    "user = input(\"Introduce tu nombre: \")\n",
    "ventas = float(input(\"Introduce el monto de ventas: \"))\n",
    "comisison = ventas * 0.13\n",
    "\n",
    "print(f\"El usuario {user} con {ventas} ventas tiene una comision de {comisison}\")\n",
    "\n"
   ]
  }
 ],
 "metadata": {
  "kernelspec": {
   "display_name": "Python 3",
   "language": "python",
   "name": "python3"
  },
  "language_info": {
   "codemirror_mode": {
    "name": "ipython",
    "version": 3
   },
   "file_extension": ".py",
   "mimetype": "text/x-python",
   "name": "python",
   "nbconvert_exporter": "python",
   "pygments_lexer": "ipython3",
   "version": "3.12.3"
  }
 },
 "nbformat": 4,
 "nbformat_minor": 2
}
